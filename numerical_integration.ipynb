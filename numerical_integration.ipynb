{
 "cells": [
  {
   "cell_type": "code",
   "execution_count": 1,
   "id": "3f922e7b",
   "metadata": {},
   "outputs": [],
   "source": [
    "import numpy as np\n",
    "import matplotlib.pyplot as plt\n",
    "from scipy import special"
   ]
  },
  {
   "cell_type": "code",
   "execution_count": 30,
   "id": "084b1346",
   "metadata": {},
   "outputs": [],
   "source": [
    "def f(x):\n",
    "    '''defines the function to be integrated'''\n",
    "    return x*2"
   ]
  },
  {
   "cell_type": "markdown",
   "id": "996282bc",
   "metadata": {},
   "source": [
    "# Prologue:"
   ]
  },
  {
   "cell_type": "markdown",
   "id": "11d12564",
   "metadata": {},
   "source": [
    "### The square integration method:"
   ]
  },
  {
   "cell_type": "markdown",
   "id": "dc5c639b",
   "metadata": {},
   "source": [
    "\\begin{align*}\n",
    "\\int_{a}^{b}f(x)dx &= \\sum_{i=0}^{N-1} \\Delta x_i f(x_i) \\\\\n",
    "\\Delta x_i &= \\frac{b-a}{N} \\\\\n",
    "\\int_{a}^{b}f(x)dx &= \\frac{b-a}{N} [f(x_0) + f(x_1) + \\dots + f(x_{N-1})] \\\\\n",
    "\\int_{a}^{b}f(x)dx &= \\frac{b-a}{N} \\sum_{i=0}^{N-1} f(x_i)\n",
    "\\end{align*}"
   ]
  },
  {
   "cell_type": "code",
   "execution_count": 31,
   "id": "86c355b8",
   "metadata": {},
   "outputs": [],
   "source": [
    "def interval_maker_sq(a, b, N=10**3):\n",
    "    '''makes x and y for y = f(x) using square method'''\n",
    "    x = np.linspace(a, b, N)\n",
    "    y = f(x)\n",
    "    return x, y"
   ]
  },
  {
   "cell_type": "code",
   "execution_count": 33,
   "id": "3d21d292",
   "metadata": {},
   "outputs": [],
   "source": [
    "def integral_sq(a, b, N=10**3):\n",
    "    '''integrates the function f(x) from a to b using square method'''\n",
    "    x, y = interval_maker_sq(a, b, N)\n",
    "    integ = 0\n",
    "    for i in range(1, len(x)-1):\n",
    "        integ += (b - a)/N*(y[i])\n",
    "    return integ"
   ]
  },
  {
   "cell_type": "markdown",
   "id": "2ba8429e",
   "metadata": {},
   "source": [
    "### The tarpezoidal integration method:"
   ]
  },
  {
   "cell_type": "markdown",
   "id": "a622a02e",
   "metadata": {},
   "source": [
    "\\begin{align*}\n",
    "\\int_{a}^{b}f(x)dx &= \\frac{\\Delta x}{2} [f(x_0) + 2 \\sum^{N-1}_{i=1} f(x_i) + f(x_n)]  \\\\\n",
    "\\int_{a}^{b}f(x)dx &= \\frac{b - a}{2 N} [f(x_0) + 2 \\sum^{N-1}_{i=1} f(x_i) + f(x_n)]  \\\\\n",
    "\\end{align*}"
   ]
  },
  {
   "cell_type": "code",
   "execution_count": 70,
   "id": "fcc5ea85",
   "metadata": {},
   "outputs": [],
   "source": [
    "def integral_tr(a, b, N=10**3):\n",
    "    '''integrates the function f(x) from a to b using trapezoidal method'''\n",
    "    x, y = interval_maker_sq(a, b, N)\n",
    "    integ = 0\n",
    "    for i in range(1, len(x)-1):\n",
    "        integ += ((b - a)/N)*(y[i])\n",
    "    integ += 0.5*((b - a)/N)*(y[0] + y[-1])\n",
    "    return integ"
   ]
  },
  {
   "cell_type": "markdown",
   "id": "9d3111f5",
   "metadata": {},
   "source": [
    "###  The Simpson integration method:"
   ]
  },
  {
   "cell_type": "markdown",
   "id": "e25da467",
   "metadata": {},
   "source": [
    "\\begin{align*}\n",
    "\\int_{a}^{b}f(x)dx &= \\frac{\\Delta x}{3} [f(x_0) + 4 \\sum^{N-1}_{i=1, 3, 5} f(x_i) + 2 \\sum^{N-2}_{i=2, 4, 6} f(x_i) +f(x_n)]  \\\\\n",
    "\\int_{a}^{b}f(x)dx &= \\frac{b - a}{3 N} [f(x_0) + 4 \\sum^{N-1}_{i=1, 3, 5} f(x_i) + 2 \\sum^{N-2}_{i=2, 4, 6} f(x_i) +f(x_n)]  \\\\\n",
    "\\end{align*}"
   ]
  },
  {
   "cell_type": "code",
   "execution_count": 19,
   "id": "87d96b22",
   "metadata": {},
   "outputs": [],
   "source": [
    "def integral_smp(a, b, N=10**3):\n",
    "    '''integrates the function f(x) from a to b using simpson method'''\n",
    "    x, y = interval_maker_sq(a, b, N)\n",
    "    sum1 = 0\n",
    "    sum2 = 0\n",
    "    dx = (b - a)/N\n",
    "    for i in range(1, len(x), 2):\n",
    "        sum1 += dx*(y[i])\n",
    "    sum1 *= 4/3\n",
    "    for i in range(2, len(x)-1, 2):\n",
    "        sum2 += dx*(y[i])\n",
    "    sum2 *= 2/3\n",
    "    integ = (dx/3)*(y[0] + y[-1]) + sum1 + sum2\n",
    "    return integ"
   ]
  },
  {
   "cell_type": "markdown",
   "id": "2e22a5a3",
   "metadata": {},
   "source": [
    "### Monte Carlo integration method:"
   ]
  },
  {
   "cell_type": "code",
   "execution_count": 94,
   "id": "b0f2ad23",
   "metadata": {},
   "outputs": [],
   "source": [
    "def interval_maker_mc(a, b, N=10**3):\n",
    "    '''makes x and y for y = f(x) using monte carlo method'''\n",
    "    x = (b - a)*np.random.random_sample(N) + a\n",
    "    y = f(x)\n",
    "    return x, y"
   ]
  },
  {
   "cell_type": "code",
   "execution_count": 31,
   "id": "52dabc8c",
   "metadata": {},
   "outputs": [],
   "source": [
    "def integral_mc(a, b, N=10**3):\n",
    "    '''integrates the function f(x) from a to b using monte carlo method'''\n",
    "    x, y = interval_maker_mc(a, b, N)\n",
    "    integ = 0\n",
    "    for i in range(len(x)):\n",
    "        integ += (b - a)/N*(y[i])\n",
    "    return integ"
   ]
  },
  {
   "cell_type": "code",
   "execution_count": 96,
   "id": "0b21e0f8",
   "metadata": {},
   "outputs": [
    {
     "name": "stdout",
     "output_type": "stream",
     "text": [
      "please enter the value of z: 10\n"
     ]
    },
    {
     "data": {
      "text/plain": [
       "0.09419015741751907"
      ]
     },
     "execution_count": 96,
     "metadata": {},
     "output_type": "execute_result"
    }
   ],
   "source": [
    "integral_mc(0, 5, N=10**3)"
   ]
  },
  {
   "cell_type": "code",
   "execution_count": 12,
   "id": "af0501d5",
   "metadata": {},
   "outputs": [],
   "source": [
    "l = [integral_mc(0, 5, i) for i in range(10**2, 10**4, 10**1)]\n",
    "c = [25 for i in range(len(l))]"
   ]
  },
  {
   "cell_type": "code",
   "execution_count": 13,
   "id": "63ae5534",
   "metadata": {},
   "outputs": [
    {
     "data": {
      "image/png": "[encoded data removed]",
      "text/plain": [
       "<Figure size 432x288 with 1 Axes>"
      ]
     },
     "metadata": {
      "needs_background": "light"
     },
     "output_type": "display_data"
    }
   ],
   "source": [
    "plt.plot(l)\n",
    "plt.plot(c)\n",
    "plt.ylabel('calculated integral')\n",
    "plt.xlabel('N')\n",
    "plt.grid()\n",
    "plt.legend(['calculated value', 'exact value'])\n",
    "plt.show();"
   ]
  },
  {
   "cell_type": "markdown",
   "id": "56b8c3ee",
   "metadata": {},
   "source": [
    "# Question no. 1"
   ]
  },
  {
   "cell_type": "markdown",
   "id": "250a155e",
   "metadata": {},
   "source": [
    "\\begin{align*}\n",
    "dV &= \\frac{1}{4 \\pi \\epsilon_0} \\frac{dQ}{r} \\\\\n",
    "&= \\frac{1}{4 \\pi \\epsilon_0} \\frac{\\lambda(x) dx}{r} \\\\\n",
    "&= \\frac{1}{4 \\pi \\epsilon_0} \\frac{\\lambda(x) dx}{\\sqrt{x^2 + z^2}} \\\\\n",
    "V &= \\frac{1}{4 \\pi \\epsilon_0} \\int^{L}_{0} \\frac{\\lambda(x)dx}{\\sqrt{x^2 + z^2}} \\hspace{5mm}, \\hspace{5mm} \\lambda(x) = \\frac{Q}{a} e^{- \\frac{x^2}{a^2}} \\\\\n",
    "V &= \\frac{1}{4 \\pi \\epsilon_0} \\frac{Q}{a} \\int^{L}_{0} \\frac{e^{- \\frac{x^2}{a^2}}}{\\sqrt{x^2 + z^2}} dx\n",
    "\\end{align*}"
   ]
  },
  {
   "cell_type": "markdown",
   "id": "e1ef736d",
   "metadata": {},
   "source": [
    "caclculating the potential using the square method yields:\n",
    "\n",
    "(Please note that here we assume the value of $\\frac{1}{4 \\pi \\epsilon_0}$, $Q$ and $a$ is set to be 1)"
   ]
  },
  {
   "cell_type": "code",
   "execution_count": 2,
   "id": "32f13b91",
   "metadata": {},
   "outputs": [],
   "source": [
    "def f(x):\n",
    "    '''function to be integrated'''\n",
    "    z = int(input('please enter the value of z: '))\n",
    "    f = np.exp(-x**2)/np.sqrt(x**2 + z**2)\n",
    "    return f"
   ]
  },
  {
   "cell_type": "code",
   "execution_count": 3,
   "id": "53258712",
   "metadata": {},
   "outputs": [],
   "source": [
    "def interval_maker_sq(a, b, N=10**3):\n",
    "    '''makes x and y for y = f(x) using square method'''\n",
    "    x = np.linspace(a, b, N)\n",
    "    y = f(x)\n",
    "    return x, y"
   ]
  },
  {
   "cell_type": "code",
   "execution_count": 13,
   "id": "9ae20fc3",
   "metadata": {},
   "outputs": [],
   "source": [
    "def integral_tr(a, b, N=10**3):\n",
    "    '''integrates the function f(x) from a to b using trapezoidal method'''\n",
    "    x, y = interval_maker_sq(a, b, N)\n",
    "    integ = 0\n",
    "    for i in range(1, len(x)):\n",
    "        integ += ((b - a)/N)*(y[i])\n",
    "    integ += 0.5*((b - a)/N)*(y[0] + y[-1])\n",
    "    return integ"
   ]
  },
  {
   "cell_type": "code",
   "execution_count": 17,
   "id": "2b436bad",
   "metadata": {},
   "outputs": [],
   "source": [
    "def integral_smp(a, b, N=10**3):\n",
    "    '''integrates the function f(x) from a to b using simpson method'''\n",
    "    x, y = interval_maker_sq(a, b, N)\n",
    "    sum1 = 0\n",
    "    sum2 = 0\n",
    "    dx = (b - a)/N\n",
    "    for i in range(1, len(x), 2):\n",
    "        sum1 += dx*(y[i])\n",
    "    sum1 *= 4/3\n",
    "    for i in range(2, len(x)-1, 2):\n",
    "        sum2 += dx*(y[i])\n",
    "    sum2 *= 2/3\n",
    "    integ = (dx/3)*(y[0] + y[-1]) + sum1 + sum2\n",
    "    return integ"
   ]
  },
  {
   "cell_type": "code",
   "execution_count": 14,
   "id": "f133efe1",
   "metadata": {},
   "outputs": [
    {
     "name": "stdout",
     "output_type": "stream",
     "text": [
      "please enter the length of the bar (L): 10\n",
      "please enter the value of z: 3\n",
      "Integral using the trapezoidal method is V = 0.28776034648950893\n"
     ]
    }
   ],
   "source": [
    "L = float(input('please enter the length of the bar (L): '))\n",
    "integ_tr = integral_tr(0, L)\n",
    "print(f'Integral using the trapezoidal method is V = {integ_tr}')"
   ]
  },
  {
   "cell_type": "code",
   "execution_count": 18,
   "id": "d39e4d0e",
   "metadata": {},
   "outputs": [
    {
     "name": "stdout",
     "output_type": "stream",
     "text": [
      "please enter the length of the bar (L): 10\n",
      "please enter the value of z: 3\n",
      "Integral using the square method is V = 0.28776034648951\n"
     ]
    }
   ],
   "source": [
    "L = float(input('please enter the length of the bar (L): '))\n",
    "integ_smp = integral_smp(0, L)\n",
    "print(f'Integral using the square method is V = {integ_smp}')"
   ]
  },
  {
   "cell_type": "markdown",
   "id": "1d98a3d3",
   "metadata": {},
   "source": [
    "# Question no. 2"
   ]
  },
  {
   "cell_type": "markdown",
   "id": "9fd418db",
   "metadata": {},
   "source": [
    "####  a)"
   ]
  },
  {
   "cell_type": "code",
   "execution_count": 31,
   "id": "3c1badb3",
   "metadata": {},
   "outputs": [],
   "source": [
    "def f(x):\n",
    "    return 1"
   ]
  },
  {
   "cell_type": "code",
   "execution_count": 32,
   "id": "c2f0233f",
   "metadata": {},
   "outputs": [],
   "source": [
    "def interval_maker_mc(a, b, N=10**3):\n",
    "    '''makes x and y for y = f(x) using monte carlo method'''\n",
    "    r = np.random.random_sample(N)\n",
    "    r_w = np.sqrt(2) * special.erfinv(1.17* np.sqrt(2/np.pi) * r)\n",
    "    x = (b - a)*r_w + a\n",
    "    y = f(x)\n",
    "    return x, y"
   ]
  },
  {
   "cell_type": "code",
   "execution_count": 33,
   "id": "75d1d593",
   "metadata": {},
   "outputs": [],
   "source": [
    "def integral_mc(a, b, N=10**3):\n",
    "    '''integrates the function f(x) from a to b using monte carlo method'''\n",
    "    x, y = interval_maker_mc(a, b, N)\n",
    "    integ = 0\n",
    "#     dx = (b - a)/N\n",
    "    for i in range(len(x)):\n",
    "        integ += ((b - a)/N)*y\n",
    "    return integ"
   ]
  },
  {
   "cell_type": "code",
   "execution_count": 34,
   "id": "19900981",
   "metadata": {},
   "outputs": [],
   "source": [
    "ans_a = [integral_mc(0, 1, N=i) for i in [10,100,1000]]"
   ]
  },
  {
   "cell_type": "code",
   "execution_count": 35,
   "id": "baf4fd58",
   "metadata": {},
   "outputs": [
    {
     "name": "stdout",
     "output_type": "stream",
     "text": [
      "the integral using the monte carlo imporant sampling method for N = 10 is: I = 0.9999999999999999\n",
      "the integral using the monte carlo imporant sampling method for N = 100 is: I = 1.0000000000000007\n",
      "the integral using the monte carlo imporant sampling method for N = 1000 is: I = 1.0000000000000007\n"
     ]
    }
   ],
   "source": [
    "print(f'the integral using the monte carlo imporant sampling method for N = 10 is: I = {ans_a[0]}')\n",
    "print(f'the integral using the monte carlo imporant sampling method for N = 100 is: I = {ans_a[1]}')\n",
    "print(f'the integral using the monte carlo imporant sampling method for N = 1000 is: I = {ans_a[2]}')"
   ]
  },
  {
   "cell_type": "markdown",
   "id": "5e26e49b",
   "metadata": {},
   "source": [
    "#### b)"
   ]
  },
  {
   "cell_type": "code",
   "execution_count": 43,
   "id": "e2a9c2d5",
   "metadata": {},
   "outputs": [],
   "source": [
    "def f(x):\n",
    "    return x**(-0.5)"
   ]
  },
  {
   "cell_type": "code",
   "execution_count": 44,
   "id": "08bd09dd",
   "metadata": {},
   "outputs": [],
   "source": [
    "def interval_maker_mc(a, b, N=10**3):\n",
    "    '''makes x and y for y = f(x) using monte carlo method'''\n",
    "    r = np.random.random_sample(N)\n",
    "    r_w = -10*np.log(1 - 0.99*r)\n",
    "    x = (b - a)*r_w + a\n",
    "    y = f(x)\n",
    "    return x, y"
   ]
  },
  {
   "cell_type": "code",
   "execution_count": 50,
   "id": "ca70e38a",
   "metadata": {},
   "outputs": [],
   "source": [
    "def integral_mc(a, b, N=10**3):\n",
    "    '''integrates the function f(x) from a to b using monte carlo method'''\n",
    "    x, y = interval_maker_mc(a, b, N)\n",
    "    integ = 0\n",
    "#     dx = (b - a)/N\n",
    "    for i in range(len(x)):\n",
    "        integ += ((b - a)/N)*y[i]\n",
    "    return integ"
   ]
  },
  {
   "cell_type": "code",
   "execution_count": 70,
   "id": "df7e3d31",
   "metadata": {},
   "outputs": [],
   "source": [
    "ans_b = [integral_mc(0, 1, N=i) for i in [10,100,1000]]"
   ]
  },
  {
   "cell_type": "code",
   "execution_count": 71,
   "id": "d81c567f",
   "metadata": {},
   "outputs": [
    {
     "name": "stdout",
     "output_type": "stream",
     "text": [
      "the integral using the monte carlo imporant sampling method for N = 10 is: I = 0.5159853958299221\n",
      "the integral using the monte carlo imporant sampling method for N = 100 is: I = 0.573495735969134\n",
      "the integral using the monte carlo imporant sampling method for N = 1000 is: I = 0.645491059270031\n"
     ]
    }
   ],
   "source": [
    "print(f'the integral using the monte carlo imporant sampling method for N = 10 is: I = {ans_b[0]}')\n",
    "print(f'the integral using the monte carlo imporant sampling method for N = 100 is: I = {ans_b[1]}')\n",
    "print(f'the integral using the monte carlo imporant sampling method for N = 1000 is: I = {ans_b[2]}')"
   ]
  },
  {
   "cell_type": "markdown",
   "id": "03f37ca6",
   "metadata": {},
   "source": [
    "# Question no. 3"
   ]
  },
  {
   "cell_type": "code",
   "execution_count": 20,
   "id": "e6c849d5",
   "metadata": {},
   "outputs": [],
   "source": [
    "def f(x):\n",
    "    return np.sqrt(1 - x**2)"
   ]
  },
  {
   "cell_type": "code",
   "execution_count": 21,
   "id": "fa49d3df",
   "metadata": {},
   "outputs": [],
   "source": [
    "def interval_maker_sq(a, b, N=10**3):\n",
    "    x = np.linspace(a, b, N)\n",
    "    y = f(x)\n",
    "    return x, y"
   ]
  },
  {
   "cell_type": "code",
   "execution_count": 22,
   "id": "77d40111",
   "metadata": {},
   "outputs": [],
   "source": [
    "def integral_sq(a, b, N=10**3):\n",
    "    x, y = interval_maker_sq(a, b, N)\n",
    "    integ = 0\n",
    "    for i in range(len(x)):\n",
    "        integ += (b - a)/N*(y[i])\n",
    "    return integ"
   ]
  },
  {
   "cell_type": "code",
   "execution_count": 23,
   "id": "0139e54a",
   "metadata": {},
   "outputs": [],
   "source": [
    "def interval_maker_mc(a, b, N=10**3):\n",
    "    x = (b - a)*np.random.random_sample(N) + a\n",
    "    y = f(x)\n",
    "    return x, y"
   ]
  },
  {
   "cell_type": "code",
   "execution_count": 24,
   "id": "ab816611",
   "metadata": {},
   "outputs": [],
   "source": [
    "def integral_mc(a, b, N=10**3):\n",
    "    x, y = interval_maker_mc(a, b, N)\n",
    "    integ = 0\n",
    "    for i in range(len(x)):\n",
    "        integ += (b - a)/N*(y[i])\n",
    "    return integ"
   ]
  },
  {
   "cell_type": "code",
   "execution_count": 25,
   "id": "8b0a5b01",
   "metadata": {},
   "outputs": [],
   "source": [
    "integ_sq = [integral_sq(-1, 1, N=i) for i in [100, 1000, 10000]]\n",
    "integ_mc = [integral_mc(-1, 1, N=i) for i in [100, 1000, 10000]]"
   ]
  },
  {
   "cell_type": "code",
   "execution_count": 26,
   "id": "f00a36c4",
   "metadata": {},
   "outputs": [
    {
     "name": "stdout",
     "output_type": "stream",
     "text": [
      "the integral using the square method for N = 100 is: I = 1.5534179294048955\n",
      "the integral using the square method for N = 1000 is: I = 1.5691729158636207\n",
      "the integral using the square method for N = 10000 is: I = 1.570637583999452\n"
     ]
    }
   ],
   "source": [
    "print(f'the integral using the square method for N = 100 is: I = {integ_sq[0]}')\n",
    "print(f'the integral using the square method for N = 1000 is: I = {integ_sq[1]}')\n",
    "print(f'the integral using the square method for N = 10000 is: I = {integ_sq[2]}')"
   ]
  },
  {
   "cell_type": "code",
   "execution_count": 27,
   "id": "2999488e",
   "metadata": {},
   "outputs": [
    {
     "name": "stdout",
     "output_type": "stream",
     "text": [
      "the integral using the monte carlo method for N = 100 is: I = 1.6285550071483064\n",
      "the integral using the monte carlo method for N = 1000 is: I = 1.550582603802636\n",
      "the integral using the monte carlo method for N = 10000 is: I = 1.5648420799338763\n"
     ]
    }
   ],
   "source": [
    "print(f'the integral using the monte carlo method for N = 100 is: I = {integ_mc[0]}')\n",
    "print(f'the integral using the monte carlo method for N = 1000 is: I = {integ_mc[1]}')\n",
    "print(f'the integral using the monte carlo method for N = 10000 is: I = {integ_mc[2]}')"
   ]
  }
 ],
 "metadata": {
  "kernelspec": {
   "display_name": "Python 3 (ipykernel)",
   "language": "python",
   "name": "python3"
  },
  "language_info": {
   "codemirror_mode": {
    "name": "ipython",
    "version": 3
   },
   "file_extension": ".py",
   "mimetype": "text/x-python",
   "name": "python",
   "nbconvert_exporter": "python",
   "pygments_lexer": "ipython3",
   "version": "3.9.7"
  }
 },
 "nbformat": 4,
 "nbformat_minor": 5
}
